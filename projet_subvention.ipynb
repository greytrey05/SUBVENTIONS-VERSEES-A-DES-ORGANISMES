{
 "cells": [
  {
   "cell_type": "code",
   "execution_count": 95,
   "id": "c9229d61-185b-4e47-8575-518a23af8ff6",
   "metadata": {},
   "outputs": [],
   "source": [
    "# Importing Pandas and NumPy packages\n",
    "import pandas as pd\n",
    "import numpy as np"
   ]
  },
  {
   "cell_type": "code",
   "execution_count": 96,
   "id": "24702f74-b2f8-461d-82e0-9f677bbff5b8",
   "metadata": {},
   "outputs": [],
   "source": [
    "# Loading the two datasets, df_subv2022 and df_subv2023, into the notebook  \n",
    "df_subv2022 = pd.read_csv(\"subventions-toulouse_2022.csv\", sep = \";\")\n",
    "df_subv2023 = pd.read_csv(\"subventions-toulouse_2023.csv\", sep = \";\")"
   ]
  },
  {
   "cell_type": "code",
   "execution_count": 97,
   "id": "be27613e-0781-4a1f-9bdf-b3dd620ef2b2",
   "metadata": {
    "panel-layout": {
     "height": 328.3999938964844,
     "visible": true,
     "width": 100
    }
   },
   "outputs": [
    {
     "data": {
      "text/html": [
       "<div>\n",
       "<style scoped>\n",
       "    .dataframe tbody tr th:only-of-type {\n",
       "        vertical-align: middle;\n",
       "    }\n",
       "\n",
       "    .dataframe tbody tr th {\n",
       "        vertical-align: top;\n",
       "    }\n",
       "\n",
       "    .dataframe thead th {\n",
       "        text-align: right;\n",
       "    }\n",
       "</style>\n",
       "<table border=\"1\" class=\"dataframe\">\n",
       "  <thead>\n",
       "    <tr style=\"text-align: right;\">\n",
       "      <th></th>\n",
       "      <th>nomAttribuant</th>\n",
       "      <th>idAttribuant</th>\n",
       "      <th>dateConvention</th>\n",
       "      <th>referenceDecision</th>\n",
       "      <th>nomBeneficiaire</th>\n",
       "      <th>idBeneficiaire</th>\n",
       "      <th>objet</th>\n",
       "      <th>montant</th>\n",
       "      <th>nature</th>\n",
       "      <th>conditionsVersement</th>\n",
       "      <th>datesPeriodeVersement</th>\n",
       "      <th>idRAE</th>\n",
       "      <th>notificationUE</th>\n",
       "      <th>pourcentageSubvention</th>\n",
       "      <th>secteur</th>\n",
       "      <th>catégorie</th>\n",
       "      <th>type</th>\n",
       "    </tr>\n",
       "  </thead>\n",
       "  <tbody>\n",
       "    <tr>\n",
       "      <th>0</th>\n",
       "      <td>Toulouse Métropole</td>\n",
       "      <td>2,43E+13</td>\n",
       "      <td>NaN</td>\n",
       "      <td>NaN</td>\n",
       "      <td>3F OCCITANIE SA</td>\n",
       "      <td>7,17E+13</td>\n",
       "      <td>Subvention d'équipement</td>\n",
       "      <td>840690.00</td>\n",
       "      <td>aide en numéraire</td>\n",
       "      <td>échelonné</td>\n",
       "      <td>06/12/2022</td>\n",
       "      <td>NaN</td>\n",
       "      <td>non</td>\n",
       "      <td>1</td>\n",
       "      <td>Immobilier</td>\n",
       "      <td>Logement social</td>\n",
       "      <td>SA conseil d'administration</td>\n",
       "    </tr>\n",
       "    <tr>\n",
       "      <th>1</th>\n",
       "      <td>Toulouse Métropole</td>\n",
       "      <td>2,43E+13</td>\n",
       "      <td>NaN</td>\n",
       "      <td>NaN</td>\n",
       "      <td>A CROQUER</td>\n",
       "      <td>8,30E+13</td>\n",
       "      <td>Subvention d'équipement</td>\n",
       "      <td>1000.00</td>\n",
       "      <td>aide en numéraire</td>\n",
       "      <td>unique</td>\n",
       "      <td>24/05/2022</td>\n",
       "      <td>NaN</td>\n",
       "      <td>non</td>\n",
       "      <td>1</td>\n",
       "      <td>Restauration</td>\n",
       "      <td>Restauration rapide</td>\n",
       "      <td>Association loi 1901</td>\n",
       "    </tr>\n",
       "    <tr>\n",
       "      <th>2</th>\n",
       "      <td>Toulouse Métropole</td>\n",
       "      <td>2,43E+13</td>\n",
       "      <td>NaN</td>\n",
       "      <td>NaN</td>\n",
       "      <td>A VELO SANS AGE</td>\n",
       "      <td>8,14E+13</td>\n",
       "      <td>Subvention d'équipement</td>\n",
       "      <td>2000.00</td>\n",
       "      <td>aide en numéraire</td>\n",
       "      <td>unique</td>\n",
       "      <td>26/04/2022</td>\n",
       "      <td>NaN</td>\n",
       "      <td>non</td>\n",
       "      <td>1</td>\n",
       "      <td>Transport</td>\n",
       "      <td>Mobilité douce</td>\n",
       "      <td>Association loi 1901</td>\n",
       "    </tr>\n",
       "    <tr>\n",
       "      <th>3</th>\n",
       "      <td>Toulouse Métropole</td>\n",
       "      <td>2,43E+13</td>\n",
       "      <td>NaN</td>\n",
       "      <td>NaN</td>\n",
       "      <td>AARPI LARROUY CASTERA CADIOU</td>\n",
       "      <td>8,39E+13</td>\n",
       "      <td>Subvention d'équipement</td>\n",
       "      <td>299.67</td>\n",
       "      <td>aide en numéraire</td>\n",
       "      <td>unique</td>\n",
       "      <td>09/12/2022</td>\n",
       "      <td>NaN</td>\n",
       "      <td>non</td>\n",
       "      <td>1</td>\n",
       "      <td>Juridique</td>\n",
       "      <td>Cabinet d'avocats</td>\n",
       "      <td>Association d'avocats à responsabilité profess...</td>\n",
       "    </tr>\n",
       "    <tr>\n",
       "      <th>4</th>\n",
       "      <td>Toulouse Métropole</td>\n",
       "      <td>2,43E+13</td>\n",
       "      <td>NaN</td>\n",
       "      <td>NaN</td>\n",
       "      <td>AAYS INDUSTRIES</td>\n",
       "      <td>8,95E+13</td>\n",
       "      <td>Subvention d'équipement</td>\n",
       "      <td>400.00</td>\n",
       "      <td>aide en numéraire</td>\n",
       "      <td>unique</td>\n",
       "      <td>13/07/2022</td>\n",
       "      <td>NaN</td>\n",
       "      <td>non</td>\n",
       "      <td>1</td>\n",
       "      <td>Conseil</td>\n",
       "      <td>Construction aéronautique</td>\n",
       "      <td>Société par actions simplifiée (SAS)</td>\n",
       "    </tr>\n",
       "  </tbody>\n",
       "</table>\n",
       "</div>"
      ],
      "text/plain": [
       "        nomAttribuant idAttribuant  dateConvention  referenceDecision  \\\n",
       "0  Toulouse Métropole     2,43E+13             NaN                NaN   \n",
       "1  Toulouse Métropole     2,43E+13             NaN                NaN   \n",
       "2  Toulouse Métropole     2,43E+13             NaN                NaN   \n",
       "3  Toulouse Métropole     2,43E+13             NaN                NaN   \n",
       "4  Toulouse Métropole     2,43E+13             NaN                NaN   \n",
       "\n",
       "                nomBeneficiaire idBeneficiaire                    objet  \\\n",
       "0               3F OCCITANIE SA       7,17E+13  Subvention d'équipement   \n",
       "1                     A CROQUER       8,30E+13  Subvention d'équipement   \n",
       "2               A VELO SANS AGE       8,14E+13  Subvention d'équipement   \n",
       "3  AARPI LARROUY CASTERA CADIOU       8,39E+13  Subvention d'équipement   \n",
       "4               AAYS INDUSTRIES       8,95E+13  Subvention d'équipement   \n",
       "\n",
       "     montant             nature conditionsVersement datesPeriodeVersement  \\\n",
       "0  840690.00  aide en numéraire           échelonné            06/12/2022   \n",
       "1    1000.00  aide en numéraire              unique            24/05/2022   \n",
       "2    2000.00  aide en numéraire              unique            26/04/2022   \n",
       "3     299.67  aide en numéraire              unique            09/12/2022   \n",
       "4     400.00  aide en numéraire              unique            13/07/2022   \n",
       "\n",
       "   idRAE notificationUE  pourcentageSubvention       secteur  \\\n",
       "0    NaN            non                      1    Immobilier   \n",
       "1    NaN            non                      1  Restauration   \n",
       "2    NaN            non                      1     Transport   \n",
       "3    NaN            non                      1     Juridique   \n",
       "4    NaN            non                      1       Conseil   \n",
       "\n",
       "                   catégorie  \\\n",
       "0            Logement social   \n",
       "1        Restauration rapide   \n",
       "2             Mobilité douce   \n",
       "3          Cabinet d'avocats   \n",
       "4  Construction aéronautique   \n",
       "\n",
       "                                                type  \n",
       "0                        SA conseil d'administration  \n",
       "1                               Association loi 1901  \n",
       "2                               Association loi 1901  \n",
       "3  Association d'avocats à responsabilité profess...  \n",
       "4               Société par actions simplifiée (SAS)  "
      ]
     },
     "execution_count": 97,
     "metadata": {},
     "output_type": "execute_result"
    }
   ],
   "source": [
    "# Exploring the first five rows of the df_subv2022 dataset  \n",
    "df_subv2022.head()"
   ]
  },
  {
   "cell_type": "code",
   "execution_count": 98,
   "id": "fdbb47dd-a9f3-4fa0-8e2d-a4c0db387895",
   "metadata": {
    "panel-layout": {
     "height": 386,
     "visible": true,
     "width": 100
    }
   },
   "outputs": [
    {
     "data": {
      "text/html": [
       "<div>\n",
       "<style scoped>\n",
       "    .dataframe tbody tr th:only-of-type {\n",
       "        vertical-align: middle;\n",
       "    }\n",
       "\n",
       "    .dataframe tbody tr th {\n",
       "        vertical-align: top;\n",
       "    }\n",
       "\n",
       "    .dataframe thead th {\n",
       "        text-align: right;\n",
       "    }\n",
       "</style>\n",
       "<table border=\"1\" class=\"dataframe\">\n",
       "  <thead>\n",
       "    <tr style=\"text-align: right;\">\n",
       "      <th></th>\n",
       "      <th>nomAttribuant</th>\n",
       "      <th>idAttribuant</th>\n",
       "      <th>dateConvention</th>\n",
       "      <th>referenceDecision</th>\n",
       "      <th>nomBeneficiaire</th>\n",
       "      <th>idBeneficiaire</th>\n",
       "      <th>objet</th>\n",
       "      <th>montant</th>\n",
       "      <th>nature</th>\n",
       "      <th>conditionsVersement</th>\n",
       "      <th>datesPeriodeVersement</th>\n",
       "      <th>idRAE</th>\n",
       "      <th>notificationUE</th>\n",
       "      <th>secteur</th>\n",
       "      <th>catégorie</th>\n",
       "      <th>type</th>\n",
       "    </tr>\n",
       "  </thead>\n",
       "  <tbody>\n",
       "    <tr>\n",
       "      <th>0</th>\n",
       "      <td>Toulouse Métropole</td>\n",
       "      <td>2,43E+13</td>\n",
       "      <td>NaN</td>\n",
       "      <td>NaN</td>\n",
       "      <td>ADIL 31 ASSOC</td>\n",
       "      <td>3,26E+13</td>\n",
       "      <td>Subvention de Fonctionnement</td>\n",
       "      <td>258555.0</td>\n",
       "      <td>aide en numéraire</td>\n",
       "      <td>échelonné</td>\n",
       "      <td>01/12/2023</td>\n",
       "      <td>NaN</td>\n",
       "      <td>non</td>\n",
       "      <td>Juridique</td>\n",
       "      <td>Conseil juridique (logement)</td>\n",
       "      <td>Association loi 1901</td>\n",
       "    </tr>\n",
       "    <tr>\n",
       "      <th>1</th>\n",
       "      <td>Toulouse Métropole</td>\n",
       "      <td>2,43E+13</td>\n",
       "      <td>NaN</td>\n",
       "      <td>NaN</td>\n",
       "      <td>ADOMA</td>\n",
       "      <td>7,88E+13</td>\n",
       "      <td>Subvention d'équipement</td>\n",
       "      <td>60000.0</td>\n",
       "      <td>aide en numéraire</td>\n",
       "      <td>unique</td>\n",
       "      <td>11/05/2023</td>\n",
       "      <td>NaN</td>\n",
       "      <td>non</td>\n",
       "      <td>Immobilier</td>\n",
       "      <td>Hébergement social</td>\n",
       "      <td>Société Anonyme (SA)</td>\n",
       "    </tr>\n",
       "    <tr>\n",
       "      <th>2</th>\n",
       "      <td>Toulouse Métropole</td>\n",
       "      <td>2,43E+13</td>\n",
       "      <td>NaN</td>\n",
       "      <td>NaN</td>\n",
       "      <td>AGFCCBM</td>\n",
       "      <td>8,23E+13</td>\n",
       "      <td>Subvention de Fonctionnement</td>\n",
       "      <td>5197.0</td>\n",
       "      <td>aide en numéraire</td>\n",
       "      <td>unique</td>\n",
       "      <td>09/11/2023</td>\n",
       "      <td>NaN</td>\n",
       "      <td>non</td>\n",
       "      <td>Économie sociale et solidaire</td>\n",
       "      <td>Gestion financiere du conseil citoyen Bellefon...</td>\n",
       "      <td>Association loi 1901</td>\n",
       "    </tr>\n",
       "    <tr>\n",
       "      <th>3</th>\n",
       "      <td>Toulouse Métropole</td>\n",
       "      <td>2,43E+13</td>\n",
       "      <td>NaN</td>\n",
       "      <td>NaN</td>\n",
       "      <td>AI2F</td>\n",
       "      <td>8,05E+13</td>\n",
       "      <td>Subvention d'équipement</td>\n",
       "      <td>5000.0</td>\n",
       "      <td>aide en numéraire</td>\n",
       "      <td>unique</td>\n",
       "      <td>15/12/2023</td>\n",
       "      <td>NaN</td>\n",
       "      <td>non</td>\n",
       "      <td>Restauration</td>\n",
       "      <td>Pâtisserie</td>\n",
       "      <td>Société à responsabilité limitée (SARL)</td>\n",
       "    </tr>\n",
       "    <tr>\n",
       "      <th>4</th>\n",
       "      <td>Toulouse Métropole</td>\n",
       "      <td>2,43E+13</td>\n",
       "      <td>NaN</td>\n",
       "      <td>NaN</td>\n",
       "      <td>AJ CONSTRUCTION</td>\n",
       "      <td>3,49E+13</td>\n",
       "      <td>Subvention d'équipement</td>\n",
       "      <td>1350.0</td>\n",
       "      <td>aide en numéraire</td>\n",
       "      <td>unique</td>\n",
       "      <td>15/12/2023</td>\n",
       "      <td>NaN</td>\n",
       "      <td>non</td>\n",
       "      <td>Bâtiment et travaux publics (BTP)</td>\n",
       "      <td>Construction</td>\n",
       "      <td>Société par actions simplifiée (SAS)</td>\n",
       "    </tr>\n",
       "  </tbody>\n",
       "</table>\n",
       "</div>"
      ],
      "text/plain": [
       "        nomAttribuant idAttribuant  dateConvention  referenceDecision  \\\n",
       "0  Toulouse Métropole     2,43E+13             NaN                NaN   \n",
       "1  Toulouse Métropole     2,43E+13             NaN                NaN   \n",
       "2  Toulouse Métropole     2,43E+13             NaN                NaN   \n",
       "3  Toulouse Métropole     2,43E+13             NaN                NaN   \n",
       "4  Toulouse Métropole     2,43E+13             NaN                NaN   \n",
       "\n",
       "   nomBeneficiaire idBeneficiaire                         objet   montant  \\\n",
       "0    ADIL 31 ASSOC       3,26E+13  Subvention de Fonctionnement  258555.0   \n",
       "1            ADOMA       7,88E+13       Subvention d'équipement   60000.0   \n",
       "2          AGFCCBM       8,23E+13  Subvention de Fonctionnement    5197.0   \n",
       "3             AI2F       8,05E+13       Subvention d'équipement    5000.0   \n",
       "4  AJ CONSTRUCTION       3,49E+13       Subvention d'équipement    1350.0   \n",
       "\n",
       "              nature conditionsVersement datesPeriodeVersement  idRAE  \\\n",
       "0  aide en numéraire           échelonné            01/12/2023    NaN   \n",
       "1  aide en numéraire              unique            11/05/2023    NaN   \n",
       "2  aide en numéraire              unique            09/11/2023    NaN   \n",
       "3  aide en numéraire              unique            15/12/2023    NaN   \n",
       "4  aide en numéraire              unique            15/12/2023    NaN   \n",
       "\n",
       "  notificationUE                            secteur  \\\n",
       "0            non                          Juridique   \n",
       "1            non                         Immobilier   \n",
       "2            non      Économie sociale et solidaire   \n",
       "3            non                       Restauration   \n",
       "4            non  Bâtiment et travaux publics (BTP)   \n",
       "\n",
       "                                           catégorie  \\\n",
       "0                       Conseil juridique (logement)   \n",
       "1                                 Hébergement social   \n",
       "2  Gestion financiere du conseil citoyen Bellefon...   \n",
       "3                                         Pâtisserie   \n",
       "4                                       Construction   \n",
       "\n",
       "                                      type  \n",
       "0                     Association loi 1901  \n",
       "1                     Société Anonyme (SA)  \n",
       "2                     Association loi 1901  \n",
       "3  Société à responsabilité limitée (SARL)  \n",
       "4     Société par actions simplifiée (SAS)  "
      ]
     },
     "execution_count": 98,
     "metadata": {},
     "output_type": "execute_result"
    }
   ],
   "source": [
    "# Exploring the first five rows of the df_subv2023 dataset  \n",
    "df_subv2023.head()"
   ]
  },
  {
   "cell_type": "code",
   "execution_count": 99,
   "id": "940cdad7-50bd-4d3a-8536-bf8c1029097b",
   "metadata": {
    "panel-layout": {
     "height": 0,
     "visible": true,
     "width": 100
    }
   },
   "outputs": [
    {
     "name": "stdout",
     "output_type": "stream",
     "text": [
      "<class 'pandas.core.frame.DataFrame'>\n",
      "RangeIndex: 396 entries, 0 to 395\n",
      "Data columns (total 17 columns):\n",
      " #   Column                 Non-Null Count  Dtype  \n",
      "---  ------                 --------------  -----  \n",
      " 0   nomAttribuant          396 non-null    object \n",
      " 1   idAttribuant           396 non-null    object \n",
      " 2   dateConvention         0 non-null      float64\n",
      " 3   referenceDecision      0 non-null      float64\n",
      " 4   nomBeneficiaire        396 non-null    object \n",
      " 5   idBeneficiaire         386 non-null    object \n",
      " 6   objet                  396 non-null    object \n",
      " 7   montant                396 non-null    float64\n",
      " 8   nature                 396 non-null    object \n",
      " 9   conditionsVersement    396 non-null    object \n",
      " 10  datesPeriodeVersement  396 non-null    object \n",
      " 11  idRAE                  0 non-null      float64\n",
      " 12  notificationUE         396 non-null    object \n",
      " 13  pourcentageSubvention  396 non-null    int64  \n",
      " 14  secteur                396 non-null    object \n",
      " 15  catégorie              395 non-null    object \n",
      " 16  type                   396 non-null    object \n",
      "dtypes: float64(4), int64(1), object(12)\n",
      "memory usage: 52.7+ KB\n"
     ]
    }
   ],
   "source": [
    "# Checking data types  \n",
    "df_subv2022.info()"
   ]
  },
  {
   "cell_type": "code",
   "execution_count": 100,
   "id": "9507e12b-725a-4210-9d1b-2b76eec7b37f",
   "metadata": {
    "panel-layout": {
     "height": 0,
     "visible": true,
     "width": 100
    }
   },
   "outputs": [
    {
     "name": "stdout",
     "output_type": "stream",
     "text": [
      "<class 'pandas.core.frame.DataFrame'>\n",
      "RangeIndex: 551 entries, 0 to 550\n",
      "Data columns (total 16 columns):\n",
      " #   Column                 Non-Null Count  Dtype  \n",
      "---  ------                 --------------  -----  \n",
      " 0   nomAttribuant          551 non-null    object \n",
      " 1   idAttribuant           551 non-null    object \n",
      " 2   dateConvention         0 non-null      float64\n",
      " 3   referenceDecision      0 non-null      float64\n",
      " 4   nomBeneficiaire        551 non-null    object \n",
      " 5   idBeneficiaire         543 non-null    object \n",
      " 6   objet                  551 non-null    object \n",
      " 7   montant                551 non-null    float64\n",
      " 8   nature                 551 non-null    object \n",
      " 9   conditionsVersement    551 non-null    object \n",
      " 10  datesPeriodeVersement  551 non-null    object \n",
      " 11  idRAE                  0 non-null      float64\n",
      " 12  notificationUE         551 non-null    object \n",
      " 13  secteur                551 non-null    object \n",
      " 14  catégorie              551 non-null    object \n",
      " 15  type                   551 non-null    object \n",
      "dtypes: float64(4), object(12)\n",
      "memory usage: 69.0+ KB\n"
     ]
    }
   ],
   "source": [
    "# Checking data types\n",
    "df_subv2023.info()"
   ]
  },
  {
   "cell_type": "markdown",
   "id": "7ec8ee54-3fbd-42c9-9b2a-cfb611b315c7",
   "metadata": {},
   "source": [
    "* When verifying the data types, I encountered two errors. Firstly, the \"datesPeriodeVersement\" field needs to be converted to a date format.\n",
    "* Secondly, the \"pourcentageSubvention\" in df_subv2022 column contains information that is not required, and for greater data accuracy, this column should be removed to facilitate a potential join."
   ]
  },
  {
   "cell_type": "code",
   "execution_count": 101,
   "id": "19ee771c-4540-4d35-b1d1-3a9ae69aea18",
   "metadata": {},
   "outputs": [],
   "source": [
    "# Deleting the \"pourcentageSubvention\" column\n",
    "df_subv2022 = df_subv2022.drop(columns ='pourcentageSubvention', axis = 1)"
   ]
  },
  {
   "cell_type": "code",
   "execution_count": 102,
   "id": "830b4ec9-f46c-431b-b421-efa8a44a5616",
   "metadata": {
    "panel-layout": {
     "height": 0,
     "visible": true,
     "width": 100
    }
   },
   "outputs": [
    {
     "name": "stdout",
     "output_type": "stream",
     "text": [
      "<class 'pandas.core.frame.DataFrame'>\n",
      "RangeIndex: 396 entries, 0 to 395\n",
      "Data columns (total 16 columns):\n",
      " #   Column                 Non-Null Count  Dtype  \n",
      "---  ------                 --------------  -----  \n",
      " 0   nomAttribuant          396 non-null    object \n",
      " 1   idAttribuant           396 non-null    object \n",
      " 2   dateConvention         0 non-null      float64\n",
      " 3   referenceDecision      0 non-null      float64\n",
      " 4   nomBeneficiaire        396 non-null    object \n",
      " 5   idBeneficiaire         386 non-null    object \n",
      " 6   objet                  396 non-null    object \n",
      " 7   montant                396 non-null    float64\n",
      " 8   nature                 396 non-null    object \n",
      " 9   conditionsVersement    396 non-null    object \n",
      " 10  datesPeriodeVersement  396 non-null    object \n",
      " 11  idRAE                  0 non-null      float64\n",
      " 12  notificationUE         396 non-null    object \n",
      " 13  secteur                396 non-null    object \n",
      " 14  catégorie              395 non-null    object \n",
      " 15  type                   396 non-null    object \n",
      "dtypes: float64(4), object(12)\n",
      "memory usage: 49.6+ KB\n"
     ]
    }
   ],
   "source": [
    "# Verifying if the column has been successfully deleted\n",
    "df_subv2022.info()"
   ]
  },
  {
   "cell_type": "code",
   "execution_count": 103,
   "id": "e9f02d1c-eea5-4478-a02a-33387cc1f74c",
   "metadata": {},
   "outputs": [],
   "source": [
    "# The data type of \"datesPeriodeVersement\" is incorrect as it is formatted as an \"object\".  \n",
    "# I want to convert it to a date format.\n",
    "\n",
    "df_subv2022['datesPeriodeVersement'] = pd.to_datetime(df_subv2022['datesPeriodeVersement'],format=\"mixed\", dayfirst=True).dt.strftime(\"%d/%m/%Y\") "
   ]
  },
  {
   "cell_type": "code",
   "execution_count": 104,
   "id": "a821fa76-9506-4121-b16e-f809c64634d1",
   "metadata": {},
   "outputs": [],
   "source": [
    "# Converting to a string\n",
    "\n",
    "df_subv2022[\"dateConvention\"] = df_subv2022[\"dateConvention\"].astype(str)\n",
    "df_subv2022[\"referenceDecision\"] = df_subv2022[\"referenceDecision\"].astype(str)\n",
    "df_subv2022[\"idRAE\"] = df_subv2022[\"idRAE\"].astype(str)"
   ]
  },
  {
   "cell_type": "code",
   "execution_count": 105,
   "id": "c4265460-1205-4cb4-837d-bb21b3f0312c",
   "metadata": {},
   "outputs": [
    {
     "name": "stdout",
     "output_type": "stream",
     "text": [
      "<class 'pandas.core.frame.DataFrame'>\n",
      "RangeIndex: 396 entries, 0 to 395\n",
      "Data columns (total 16 columns):\n",
      " #   Column                 Non-Null Count  Dtype  \n",
      "---  ------                 --------------  -----  \n",
      " 0   nomAttribuant          396 non-null    object \n",
      " 1   idAttribuant           396 non-null    object \n",
      " 2   dateConvention         396 non-null    object \n",
      " 3   referenceDecision      396 non-null    object \n",
      " 4   nomBeneficiaire        396 non-null    object \n",
      " 5   idBeneficiaire         386 non-null    object \n",
      " 6   objet                  396 non-null    object \n",
      " 7   montant                396 non-null    float64\n",
      " 8   nature                 396 non-null    object \n",
      " 9   conditionsVersement    396 non-null    object \n",
      " 10  datesPeriodeVersement  396 non-null    object \n",
      " 11  idRAE                  396 non-null    object \n",
      " 12  notificationUE         396 non-null    object \n",
      " 13  secteur                396 non-null    object \n",
      " 14  catégorie              395 non-null    object \n",
      " 15  type                   396 non-null    object \n",
      "dtypes: float64(1), object(15)\n",
      "memory usage: 49.6+ KB\n"
     ]
    }
   ],
   "source": [
    "# Verifying if the data types has been successfully changed\n",
    "\n",
    "df_subv2022.info()"
   ]
  },
  {
   "cell_type": "code",
   "execution_count": 106,
   "id": "27a6cf10-5ed9-4b97-bdfe-02667349fb17",
   "metadata": {},
   "outputs": [],
   "source": [
    "# Changing the font for clearer reading\n",
    "\n",
    "df_subv2022['nomBeneficiaire'] = df_subv2022['nomBeneficiaire'].str.title()"
   ]
  },
  {
   "cell_type": "code",
   "execution_count": 107,
   "id": "49f04421-3ef5-43f4-9b7a-fc10fd241fa0",
   "metadata": {
    "panel-layout": {
     "height": 459.6000061035156,
     "visible": true,
     "width": 100
    }
   },
   "outputs": [
    {
     "data": {
      "text/plain": [
       "nomAttribuant             0\n",
       "idAttribuant              0\n",
       "dateConvention            0\n",
       "referenceDecision         0\n",
       "nomBeneficiaire           0\n",
       "idBeneficiaire           10\n",
       "objet                     0\n",
       "montant                   0\n",
       "nature                    0\n",
       "conditionsVersement       0\n",
       "datesPeriodeVersement     0\n",
       "idRAE                     0\n",
       "notificationUE            0\n",
       "secteur                   0\n",
       "catégorie                 1\n",
       "type                      0\n",
       "dtype: int64"
      ]
     },
     "execution_count": 107,
     "metadata": {},
     "output_type": "execute_result"
    }
   ],
   "source": [
    "# Checking for nulls. Even if I find nulls, I will keep them as they will be useful.\n",
    "\n",
    "df_subv2022.isnull().sum()"
   ]
  },
  {
   "cell_type": "markdown",
   "id": "9d1af614-1495-4e83-8b6d-d2d96204dee0",
   "metadata": {},
   "source": [
    "* When exploring the dataset, I noticed that some \"idBeneficiaire\" values were missing, but the rest of the data was complete.\n"
   ]
  },
  {
   "cell_type": "code",
   "execution_count": 112,
   "id": "d65578f4-683d-4cf4-9f2c-0b66e2066060",
   "metadata": {},
   "outputs": [
    {
     "name": "stdout",
     "output_type": "stream",
     "text": [
      "                              secteur      montant\n",
      "20                         Immobilier  22936391.12\n",
      "9   Bâtiment et travaux publics (BTP)  18260580.90\n",
      "13                            Culture  13500600.24\n",
      "5           Aménagement du territoire  12239582.10\n",
      "14                Développement local   5390658.60\n",
      "41                          Éducation   3632903.13\n",
      "38                          Transport   2021203.67\n",
      "25                          Numérique   1643154.01\n",
      "27                          Recherche   1276002.63\n",
      "15                             Emploi   1161852.30\n"
     ]
    }
   ],
   "source": [
    "# Finding the top 10 sectors that receive the most subsidies\n",
    "# Aggregating the amounts by sector\n",
    "\n",
    "df_secteur = df_subv2022.groupby('secteur', as_index=False)['montant'].sum()\n",
    "\n",
    "# Sorting by descending amount\n",
    "\n",
    "df_secteur = df_secteur.sort_values(by='montant', ascending=False)\n",
    "\n",
    "# Displaying the top 10 sectors that receive the most subsidies\n",
    "print(df_secteur.head(10))"
   ]
  },
  {
   "cell_type": "code",
   "execution_count": 117,
   "id": "15b2bf19-34cd-4b62-bd36-fe9f860cc873",
   "metadata": {
    "scrolled": true
   },
   "outputs": [
    {
     "name": "stdout",
     "output_type": "stream",
     "text": [
      "                      secteur  montant\n",
      "4             Agroalimentaire   1000.0\n",
      "36                   Sécurité   2800.0\n",
      "33             Société civile   4457.0\n",
      "21                   Jeunesse  14500.0\n",
      "6                   Artisanat  17700.0\n",
      "37                   Tourisme  26700.0\n",
      "34  Solidarité internationale  31000.0\n",
      "23                       Mode  34350.0\n",
      "28               Restauration  34866.0\n",
      "30            Service civique  36000.0\n"
     ]
    }
   ],
   "source": [
    "# Finding the top 10 sectors that receive the least subsidies\n",
    "# Aggregating the amounts by sector\n",
    "\n",
    "df_secteur2 = df_subv2022.groupby('secteur',as_index=False)['montant'].sum()\n",
    "\n",
    "df_secteur2 = df_secteur2.sort_values(by='montant', ascending=True)\n",
    "\n",
    "print(df_secteur2.head(10))"
   ]
  },
  {
   "cell_type": "code",
   "execution_count": 130,
   "id": "d99533e1-bec8-4000-8a9c-70c49c95ded3",
   "metadata": {},
   "outputs": [
    {
     "data": {
      "text/plain": [
       "(15000000.0, 224215.5, 26.8, 11517.5)"
      ]
     },
     "execution_count": 130,
     "metadata": {},
     "output_type": "execute_result"
    }
   ],
   "source": [
    "# Analyzing the min, max, and mean of the \"montant\"\n",
    "\n",
    "df_subv2022[\"montant\"].max(),df_subv2022[\"montant\"].mean().round(1),df_subv2022[\"montant\"].min(),df_subv2022[\"montant\"].median()"
   ]
  },
  {
   "cell_type": "code",
   "execution_count": 131,
   "id": "d43ea604-95d8-4da2-8048-f7184b46e8bc",
   "metadata": {},
   "outputs": [
    {
     "data": {
      "text/plain": [
       "88789356.48"
      ]
     },
     "execution_count": 131,
     "metadata": {},
     "output_type": "execute_result"
    }
   ],
   "source": [
    "# Analyzing the total amount given for the year 2022 \n",
    "\n",
    "df_subv2022[\"montant\"].sum()"
   ]
  },
  {
   "cell_type": "code",
   "execution_count": 197,
   "id": "d3b82b86-654a-4268-831d-0840c5ba3f0b",
   "metadata": {},
   "outputs": [
    {
     "name": "stdout",
     "output_type": "stream",
     "text": [
      " The metropole of toulouse has given 88789356.48€ of subsidies this year\n"
     ]
    }
   ],
   "source": [
    "print(f\" The metropole of toulouse has given {df_subv2022[\"montant\"].sum()}€ of subsidies this year\")"
   ]
  },
  {
   "cell_type": "markdown",
   "id": "2f2f9e24-6e21-42c6-8c0f-87b0c5b9a643",
   "metadata": {},
   "source": [
    "# Now I am going to work on the 2023 dataset"
   ]
  },
  {
   "cell_type": "code",
   "execution_count": 134,
   "id": "deed7454-0075-446e-b3d6-d171f11878cd",
   "metadata": {},
   "outputs": [],
   "source": [
    "\n",
    "df_subv2023['datesPeriodeVersement'] = pd.to_datetime(df_subv2023['datesPeriodeVersement'],format=\"mixed\", dayfirst=True).dt.strftime(\"%d/%m/%Y\") "
   ]
  },
  {
   "cell_type": "code",
   "execution_count": 136,
   "id": "e700b057-85cb-4a69-ac50-9ed608b15b49",
   "metadata": {},
   "outputs": [],
   "source": [
    "\n",
    "df_subv2023[\"dateConvention\"] = df_subv2023[\"dateConvention\"].astype(str)\n",
    "df_subv2023[\"referenceDecision\"] = df_subv2023[\"referenceDecision\"].astype(str)\n",
    "df_subv2023[\"idRAE\"] = df_subv2023[\"idRAE\"].astype(str)"
   ]
  },
  {
   "cell_type": "code",
   "execution_count": 143,
   "id": "22c1c93e-8df0-4819-a0de-718355177061",
   "metadata": {},
   "outputs": [],
   "source": [
    "df_subv2023['secteur'] = df_subv2023['secteur'].str.title()\n",
    "df_subv2023['nomBeneficiaire'] = df_subv2023['nomBeneficiaire'].str.title()"
   ]
  },
  {
   "cell_type": "code",
   "execution_count": 140,
   "id": "dac436d0-fcaa-44e9-b214-f67453922b41",
   "metadata": {},
   "outputs": [
    {
     "data": {
      "text/html": [
       "<div>\n",
       "<style scoped>\n",
       "    .dataframe tbody tr th:only-of-type {\n",
       "        vertical-align: middle;\n",
       "    }\n",
       "\n",
       "    .dataframe tbody tr th {\n",
       "        vertical-align: top;\n",
       "    }\n",
       "\n",
       "    .dataframe thead th {\n",
       "        text-align: right;\n",
       "    }\n",
       "</style>\n",
       "<table border=\"1\" class=\"dataframe\">\n",
       "  <thead>\n",
       "    <tr style=\"text-align: right;\">\n",
       "      <th></th>\n",
       "      <th>nomAttribuant</th>\n",
       "      <th>idAttribuant</th>\n",
       "      <th>dateConvention</th>\n",
       "      <th>referenceDecision</th>\n",
       "      <th>nomBeneficiaire</th>\n",
       "      <th>idBeneficiaire</th>\n",
       "      <th>objet</th>\n",
       "      <th>montant</th>\n",
       "      <th>nature</th>\n",
       "      <th>conditionsVersement</th>\n",
       "      <th>datesPeriodeVersement</th>\n",
       "      <th>idRAE</th>\n",
       "      <th>notificationUE</th>\n",
       "      <th>secteur</th>\n",
       "      <th>catégorie</th>\n",
       "      <th>type</th>\n",
       "    </tr>\n",
       "  </thead>\n",
       "  <tbody>\n",
       "    <tr>\n",
       "      <th>0</th>\n",
       "      <td>Toulouse Métropole</td>\n",
       "      <td>2,43E+13</td>\n",
       "      <td>nan</td>\n",
       "      <td>nan</td>\n",
       "      <td>Adil 31 Assoc</td>\n",
       "      <td>3,26E+13</td>\n",
       "      <td>Subvention de Fonctionnement</td>\n",
       "      <td>258555.0</td>\n",
       "      <td>aide en numéraire</td>\n",
       "      <td>échelonné</td>\n",
       "      <td>01/12/2023</td>\n",
       "      <td>nan</td>\n",
       "      <td>non</td>\n",
       "      <td>Juridique</td>\n",
       "      <td>Conseil juridique (logement)</td>\n",
       "      <td>Association loi 1901</td>\n",
       "    </tr>\n",
       "    <tr>\n",
       "      <th>1</th>\n",
       "      <td>Toulouse Métropole</td>\n",
       "      <td>2,43E+13</td>\n",
       "      <td>nan</td>\n",
       "      <td>nan</td>\n",
       "      <td>Adoma</td>\n",
       "      <td>7,88E+13</td>\n",
       "      <td>Subvention d'équipement</td>\n",
       "      <td>60000.0</td>\n",
       "      <td>aide en numéraire</td>\n",
       "      <td>unique</td>\n",
       "      <td>11/05/2023</td>\n",
       "      <td>nan</td>\n",
       "      <td>non</td>\n",
       "      <td>Immobilier</td>\n",
       "      <td>Hébergement social</td>\n",
       "      <td>Société Anonyme (SA)</td>\n",
       "    </tr>\n",
       "    <tr>\n",
       "      <th>2</th>\n",
       "      <td>Toulouse Métropole</td>\n",
       "      <td>2,43E+13</td>\n",
       "      <td>nan</td>\n",
       "      <td>nan</td>\n",
       "      <td>Agfccbm</td>\n",
       "      <td>8,23E+13</td>\n",
       "      <td>Subvention de Fonctionnement</td>\n",
       "      <td>5197.0</td>\n",
       "      <td>aide en numéraire</td>\n",
       "      <td>unique</td>\n",
       "      <td>09/11/2023</td>\n",
       "      <td>nan</td>\n",
       "      <td>non</td>\n",
       "      <td>Économie sociale et solidaire</td>\n",
       "      <td>Gestion financiere du conseil citoyen Bellefon...</td>\n",
       "      <td>Association loi 1901</td>\n",
       "    </tr>\n",
       "    <tr>\n",
       "      <th>3</th>\n",
       "      <td>Toulouse Métropole</td>\n",
       "      <td>2,43E+13</td>\n",
       "      <td>nan</td>\n",
       "      <td>nan</td>\n",
       "      <td>Ai2F</td>\n",
       "      <td>8,05E+13</td>\n",
       "      <td>Subvention d'équipement</td>\n",
       "      <td>5000.0</td>\n",
       "      <td>aide en numéraire</td>\n",
       "      <td>unique</td>\n",
       "      <td>15/12/2023</td>\n",
       "      <td>nan</td>\n",
       "      <td>non</td>\n",
       "      <td>Restauration</td>\n",
       "      <td>Pâtisserie</td>\n",
       "      <td>Société à responsabilité limitée (SARL)</td>\n",
       "    </tr>\n",
       "    <tr>\n",
       "      <th>4</th>\n",
       "      <td>Toulouse Métropole</td>\n",
       "      <td>2,43E+13</td>\n",
       "      <td>nan</td>\n",
       "      <td>nan</td>\n",
       "      <td>Aj Construction</td>\n",
       "      <td>3,49E+13</td>\n",
       "      <td>Subvention d'équipement</td>\n",
       "      <td>1350.0</td>\n",
       "      <td>aide en numéraire</td>\n",
       "      <td>unique</td>\n",
       "      <td>15/12/2023</td>\n",
       "      <td>nan</td>\n",
       "      <td>non</td>\n",
       "      <td>Bâtiment et travaux publics (BTP)</td>\n",
       "      <td>Construction</td>\n",
       "      <td>Société par actions simplifiée (SAS)</td>\n",
       "    </tr>\n",
       "  </tbody>\n",
       "</table>\n",
       "</div>"
      ],
      "text/plain": [
       "        nomAttribuant idAttribuant dateConvention referenceDecision  \\\n",
       "0  Toulouse Métropole     2,43E+13            nan               nan   \n",
       "1  Toulouse Métropole     2,43E+13            nan               nan   \n",
       "2  Toulouse Métropole     2,43E+13            nan               nan   \n",
       "3  Toulouse Métropole     2,43E+13            nan               nan   \n",
       "4  Toulouse Métropole     2,43E+13            nan               nan   \n",
       "\n",
       "   nomBeneficiaire idBeneficiaire                         objet   montant  \\\n",
       "0    Adil 31 Assoc       3,26E+13  Subvention de Fonctionnement  258555.0   \n",
       "1            Adoma       7,88E+13       Subvention d'équipement   60000.0   \n",
       "2          Agfccbm       8,23E+13  Subvention de Fonctionnement    5197.0   \n",
       "3             Ai2F       8,05E+13       Subvention d'équipement    5000.0   \n",
       "4  Aj Construction       3,49E+13       Subvention d'équipement    1350.0   \n",
       "\n",
       "              nature conditionsVersement datesPeriodeVersement idRAE  \\\n",
       "0  aide en numéraire           échelonné            01/12/2023   nan   \n",
       "1  aide en numéraire              unique            11/05/2023   nan   \n",
       "2  aide en numéraire              unique            09/11/2023   nan   \n",
       "3  aide en numéraire              unique            15/12/2023   nan   \n",
       "4  aide en numéraire              unique            15/12/2023   nan   \n",
       "\n",
       "  notificationUE                            secteur  \\\n",
       "0            non                          Juridique   \n",
       "1            non                         Immobilier   \n",
       "2            non      Économie sociale et solidaire   \n",
       "3            non                       Restauration   \n",
       "4            non  Bâtiment et travaux publics (BTP)   \n",
       "\n",
       "                                           catégorie  \\\n",
       "0                       Conseil juridique (logement)   \n",
       "1                                 Hébergement social   \n",
       "2  Gestion financiere du conseil citoyen Bellefon...   \n",
       "3                                         Pâtisserie   \n",
       "4                                       Construction   \n",
       "\n",
       "                                      type  \n",
       "0                     Association loi 1901  \n",
       "1                     Société Anonyme (SA)  \n",
       "2                     Association loi 1901  \n",
       "3  Société à responsabilité limitée (SARL)  \n",
       "4     Société par actions simplifiée (SAS)  "
      ]
     },
     "execution_count": 140,
     "metadata": {},
     "output_type": "execute_result"
    }
   ],
   "source": [
    "df_subv2023.head()"
   ]
  },
  {
   "cell_type": "code",
   "execution_count": 141,
   "id": "5696002b-1cef-45bf-8ac5-73127fb22a8c",
   "metadata": {},
   "outputs": [
    {
     "data": {
      "text/plain": [
       "nomAttribuant            0\n",
       "idAttribuant             0\n",
       "dateConvention           0\n",
       "referenceDecision        0\n",
       "nomBeneficiaire          0\n",
       "idBeneficiaire           8\n",
       "objet                    0\n",
       "montant                  0\n",
       "nature                   0\n",
       "conditionsVersement      0\n",
       "datesPeriodeVersement    0\n",
       "idRAE                    0\n",
       "notificationUE           0\n",
       "secteur                  0\n",
       "catégorie                0\n",
       "type                     0\n",
       "dtype: int64"
      ]
     },
     "execution_count": 141,
     "metadata": {},
     "output_type": "execute_result"
    }
   ],
   "source": [
    "df_subv2023.isnull().sum()"
   ]
  },
  {
   "cell_type": "code",
   "execution_count": 144,
   "id": "eb72ef37-a64d-42b4-b2c4-f446d01d8c22",
   "metadata": {},
   "outputs": [
    {
     "name": "stdout",
     "output_type": "stream",
     "text": [
      "                              secteur      montant\n",
      "21                         Immobilier  37374906.38\n",
      "2             Administration Publique  35870770.27\n",
      "14                            Culture  12324678.24\n",
      "5           Aménagement Du Territoire   6952819.50\n",
      "36                           Tourisme   5607907.23\n",
      "37                          Transport   3500367.07\n",
      "9   Bâtiment Et Travaux Publics (Btp)   3096603.93\n",
      "40                          Éducation   2129320.41\n",
      "1                      Action Sociale   2105916.38\n",
      "26                          Numérique   1248427.59\n"
     ]
    }
   ],
   "source": [
    "# Finding the top 10 sectors that receive the most subsidies\n",
    "# Aggregating the amounts by sector\n",
    "\n",
    "df_secteur_1 = df_subv2023.groupby('secteur', as_index=False)['montant'].sum()\n",
    "\n",
    "# Sorting by descending amount\n",
    "df_secteur_1 = df_secteur_1.sort_values(by='montant', ascending=False)\n",
    "\n",
    "# Displaying the top 10 sectors that receive the most subsidies\n",
    "print(df_secteur_1.head(10))"
   ]
  },
  {
   "cell_type": "code",
   "execution_count": 156,
   "id": "e6105c5b-b4b3-45a0-b7b8-ea493ab0fa22",
   "metadata": {},
   "outputs": [
    {
     "name": "stdout",
     "output_type": "stream",
     "text": [
      "               secteur   montant\n",
      "25              Médias   7000.00\n",
      "12    Commerce De Gros  10900.00\n",
      "0   Action Humanitaire  14952.19\n",
      "7           Automobile  21300.00\n",
      "32    Services Sociaux  28000.00\n",
      "6            Artisanat  31000.00\n",
      "27           Politique  33100.00\n",
      "24                Mode  34000.00\n",
      "18          Entreprise  38200.00\n",
      "31     Service Civique  38500.00\n"
     ]
    }
   ],
   "source": [
    "# Finding the top 10 sectors that receive the least subsidies\n",
    "# Aggregating the amounts by sector\n",
    "\n",
    "df_secteur_2 = df_subv2023.groupby('secteur', as_index=False)['montant'].sum()\n",
    "\n",
    "df_secteur_2 = df_secteur_2.sort_values(by='montant', ascending=True)\n",
    "\n",
    "print(df_secteur_2.head(10)) \n"
   ]
  },
  {
   "cell_type": "code",
   "execution_count": 157,
   "id": "9bab07fe-796a-4d47-a089-1fb92658a2b9",
   "metadata": {},
   "outputs": [
    {
     "data": {
      "text/plain": [
       "(27132600.0, 213647.3, 184.0, 6000.0)"
      ]
     },
     "execution_count": 157,
     "metadata": {},
     "output_type": "execute_result"
    }
   ],
   "source": [
    "\n",
    "df_subv2023[\"montant\"].max(),df_subv2023[\"montant\"].mean().round(1),df_subv2023[\"montant\"].min(),df_subv2023[\"montant\"].median()"
   ]
  },
  {
   "cell_type": "code",
   "execution_count": 158,
   "id": "17f34a7b-5512-4224-a966-8cb054944109",
   "metadata": {},
   "outputs": [
    {
     "data": {
      "text/plain": [
       "117719667.87"
      ]
     },
     "execution_count": 158,
     "metadata": {},
     "output_type": "execute_result"
    }
   ],
   "source": [
    "df_subv2023[\"montant\"].sum()"
   ]
  },
  {
   "cell_type": "code",
   "execution_count": 159,
   "id": "0d54594c-b457-4eb0-8b12-862dd9000678",
   "metadata": {},
   "outputs": [
    {
     "name": "stdout",
     "output_type": "stream",
     "text": [
      " The metropole of toulouse has given 117719667.87€ of subsidies this year\n"
     ]
    }
   ],
   "source": [
    "print(f\" The metropole of toulouse has given {df_subv2023[\"montant\"].sum()}€ of subsidies this year\")"
   ]
  },
  {
   "cell_type": "code",
   "execution_count": 193,
   "id": "d59204f9-bb80-453b-911f-740f044b6a6f",
   "metadata": {},
   "outputs": [
    {
     "name": "stdout",
     "output_type": "stream",
     "text": [
      "augmentation entre 2022-2023 en pourcentage : 32.58%\n"
     ]
    }
   ],
   "source": [
    "total_2022 = df_subv2022[\"montant\"].sum()\n",
    "total_2023 = df_subv2023[\"montant\"].sum()\n",
    "\n",
    "difference_pourcentage = ((total_2023 - total_2022) / total_2022) * 100\n",
    "\n",
    "print(f\"augmentation entre 2022-2023 en pourcentage : {difference_pourcentage:.2f}%\")\n"
   ]
  }
 ],
 "metadata": {
  "kernelspec": {
   "display_name": "Python 3 (ipykernel)",
   "language": "python",
   "name": "python3"
  },
  "language_info": {
   "codemirror_mode": {
    "name": "ipython",
    "version": 3
   },
   "file_extension": ".py",
   "mimetype": "text/x-python",
   "name": "python",
   "nbconvert_exporter": "python",
   "pygments_lexer": "ipython3",
   "version": "3.12.7"
  },
  "panel-cell-order": [
   "be27613e-0781-4a1f-9bdf-b3dd620ef2b2",
   "fdbb47dd-a9f3-4fa0-8e2d-a4c0db387895",
   "940cdad7-50bd-4d3a-8536-bf8c1029097b",
   "9507e12b-725a-4210-9d1b-2b76eec7b37f",
   "830b4ec9-f46c-431b-b421-efa8a44a5616",
   "a99470d6-5c59-47a5-8688-8119675f638d",
   "1a43bc06-3bfe-4c82-94a9-03cee2531571",
   "a721da45-3d6f-4078-aace-fde2fa3cc038",
   "f29c147a-5e14-4988-8c47-20bea7e85691",
   "e279814d-5fbb-424e-9191-d2f9ae290257",
   "393e4c1f-1ae5-4f4d-95da-9f6b2dafef75",
   "8d854084-9ed6-4764-8c19-0ef9465d1315",
   "2ff4376c-0fff-4034-814c-e4366350ea94",
   "a42cd42c-469d-4b81-964e-5ea849b5bb46",
   "49f04421-3ef5-43f4-9b7a-fc10fd241fa0"
  ]
 },
 "nbformat": 4,
 "nbformat_minor": 5
}
